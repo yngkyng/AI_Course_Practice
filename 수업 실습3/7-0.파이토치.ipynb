{
 "cells": [
  {
   "cell_type": "code",
   "execution_count": 3,
   "metadata": {},
   "outputs": [],
   "source": [
    "import numpy as np\n",
    "import torch"
   ]
  },
  {
   "cell_type": "code",
   "execution_count": 4,
   "metadata": {},
   "outputs": [
    {
     "name": "stdout",
     "output_type": "stream",
     "text": [
      "tensor([[1, 2],\n",
      "        [3, 4]], dtype=torch.int32)\n",
      "tensor([[1, 2],\n",
      "        [3, 4]], dtype=torch.int32)\n",
      "tensor([[1, 2],\n",
      "        [3, 4]], dtype=torch.int32)\n"
     ]
    }
   ],
   "source": [
    "li = np.array([[1, 2], [3, 4]])\n",
    "#넘파이배열을 텐서로 변환\n",
    "tensor1 = torch.tensor(li)\n",
    "tensor2 = torch.as_tensor(li)\n",
    "tensor3 = torch.from_numpy(li)\n",
    "print(tensor1)\n",
    "print(tensor2)\n",
    "print(tensor3)"
   ]
  },
  {
   "cell_type": "code",
   "execution_count": 5,
   "metadata": {},
   "outputs": [
    {
     "name": "stdout",
     "output_type": "stream",
     "text": [
      "[[1 2]\n",
      " [3 4]]\n",
      "[[1 2]\n",
      " [3 4]]\n",
      "[[1 2]\n",
      " [3 4]]\n"
     ]
    }
   ],
   "source": [
    "#텐서를 넘파이배열로 변환\n",
    "print(tensor1.numpy())\n",
    "print(tensor2.numpy())\n",
    "print(tensor3.numpy())"
   ]
  },
  {
   "cell_type": "code",
   "execution_count": 6,
   "metadata": {},
   "outputs": [
    {
     "name": "stdout",
     "output_type": "stream",
     "text": [
      "tensor([0.4963, 0.7682, 0.0885, 0.1320, 0.3074])\n",
      "tensor([ 0.5507,  0.2704,  0.6472,  0.2490, -0.3354])\n",
      "tensor([8, 4, 3, 6, 9])\n"
     ]
    }
   ],
   "source": [
    "torch.manual_seed(0) #랜덤시드 고정\n",
    "a = torch.rand(5) # 0 ~ 1 사이의 5개의 난수\n",
    "b = torch.randn(5) # 평균 0, 표준편차 1인 5개의 난수\n",
    "c = torch.randint(10, size=(5,)) # 0~9 사이의 5개의 난수\n",
    "print(a)\n",
    "print(b)\n",
    "print(c)"
   ]
  },
  {
   "cell_type": "code",
   "execution_count": 7,
   "metadata": {},
   "outputs": [
    {
     "name": "stdout",
     "output_type": "stream",
     "text": [
      "tensor([1, 2, 3, 4, 5, 6, 7, 8, 9])\n",
      "tensor([[1., 1., 1., 1., 1.],\n",
      "        [1., 1., 1., 1., 1.]])\n",
      "tensor([[0., 0., 0., 0., 0.],\n",
      "        [0., 0., 0., 0., 0.],\n",
      "        [0., 0., 0., 0., 0.]])\n",
      "tensor([ 0.0000,  2.5000,  5.0000,  7.5000, 10.0000])\n"
     ]
    }
   ],
   "source": [
    "print(torch.arange(1, 10)) # 1~9\n",
    "print(torch.ones((2, 5))) # 2행 5열, 1로 채움\n",
    "print(torch.zeros((3, 5))) #3행 5열, 0으로 채움\n",
    "print(torch.linspace(0, 10, 5)) # 0~10, 5등분"
   ]
  },
  {
   "cell_type": "code",
   "execution_count": 8,
   "metadata": {},
   "outputs": [
    {
     "name": "stdout",
     "output_type": "stream",
     "text": [
      "tensor([[1., 1., 1.],\n",
      "        [1., 1., 1.],\n",
      "        [1., 1., 1.],\n",
      "        [1., 1., 1.]])\n",
      "tensor([[1., 1., 1., 1.],\n",
      "        [1., 1., 1., 1.],\n",
      "        [1., 1., 1., 1.]])\n",
      "tensor([1., 1., 1., 1., 1., 1., 1., 1., 1., 1., 1., 1.])\n"
     ]
    }
   ],
   "source": [
    "#텐서의 형상 변환(reshape)\n",
    "t1 = torch.ones(4, 3)\n",
    "t2 = t1.view(3, 4) #3행 4열로 변환\n",
    "t3 = t1.view(12) #1차원 배열로 변환\n",
    "print(t1)\n",
    "print(t2)\n",
    "print(t3)"
   ]
  },
  {
   "cell_type": "code",
   "execution_count": 9,
   "metadata": {},
   "outputs": [
    {
     "data": {
      "text/plain": [
       "tensor([[[1., 1., 1., 1.],\n",
       "         [1., 1., 1., 1.],\n",
       "         [1., 1., 1., 1.]]])"
      ]
     },
     "execution_count": 9,
     "metadata": {},
     "output_type": "execute_result"
    }
   ],
   "source": [
    "t1.view(1, 3, 4) #3차원으로 변환"
   ]
  },
  {
   "attachments": {},
   "cell_type": "markdown",
   "metadata": {},
   "source": [
    "> iris 데이터셋"
   ]
  },
  {
   "cell_type": "code",
   "execution_count": 13,
   "metadata": {},
   "outputs": [],
   "source": [
    "from sklearn.datasets import load_iris\n",
    "# iris 데이터셋 로딩\n",
    "X, y = load_iris(return_X_y=True)"
   ]
  },
  {
   "cell_type": "code",
   "execution_count": 14,
   "metadata": {},
   "outputs": [
    {
     "name": "stdout",
     "output_type": "stream",
     "text": [
      "120\n"
     ]
    }
   ],
   "source": [
    "from sklearn.model_selection import train_test_split\n",
    "X_train,X_test, y_train, y_test = train_test_split(\n",
    "X, y, random_state=10, test_size=0.2, stratify=y, shuffle=True)\n",
    "print(len(X_train))"
   ]
  },
  {
   "cell_type": "code",
   "execution_count": 15,
   "metadata": {},
   "outputs": [],
   "source": [
    "#신경망 모형 정의\n",
    "from torch import nn\n",
    "import torch.nn.functional as F\n",
    "\n",
    "class Model(nn.Module):\n",
    "    def __init__(self, input_dim):\n",
    "        super(Model, self).__init__()\n",
    "        #input layer, Linear 선형함수(1차함수)\n",
    "        self.layer1 = nn.Linear(input_dim,50) #input nodes, output nodes 50\n",
    "        self.layer2 = nn.Linear(50, 20)\n",
    "        self.layer3 = nn.Linear(20, 3)\n",
    "    def forward(self, x):\n",
    "        x = F.relu(self.layer1(x))\n",
    "        x = F.relu(self.layer2(x))\n",
    "        # 출력층의 활성화함수 - 소프트맥스\n",
    "        x = F.softmax(self.layer3(x), dim=0)\n",
    "        return x"
   ]
  },
  {
   "cell_type": "code",
   "execution_count": 16,
   "metadata": {},
   "outputs": [],
   "source": [
    "import torch\n",
    "\n",
    "# 초기화함수의 input_dim으로 변수개수가 전달됨\n",
    "model = Model(X_train.shape[1])\n",
    "#최적화함수 정의\n",
    "optimizer = torch.optim.Adam(model.parameters(), lr=0.01)\n",
    "#손실함수 정의\n",
    "loss_fn = nn.CrossEntropyLoss()\n",
    "epochs = 100"
   ]
  },
  {
   "cell_type": "code",
   "execution_count": 17,
   "metadata": {},
   "outputs": [
    {
     "name": "stdout",
     "output_type": "stream",
     "text": [
      "Epoch 1\n",
      "loss: 1.0980700254440308\n",
      "Epoch 2\n",
      "loss: 1.097053050994873\n",
      "Epoch 3\n",
      "loss: 1.096076488494873\n",
      "Epoch 4\n",
      "loss: 1.0948431491851807\n",
      "Epoch 5\n",
      "loss: 1.0936310291290283\n",
      "Epoch 6\n",
      "loss: 1.092368245124817\n",
      "Epoch 7\n",
      "loss: 1.0912740230560303\n",
      "Epoch 8\n",
      "loss: 1.0903372764587402\n",
      "Epoch 9\n",
      "loss: 1.0895863771438599\n",
      "Epoch 10\n",
      "loss: 1.0889297723770142\n",
      "Epoch 11\n",
      "loss: 1.0883090496063232\n",
      "Epoch 12\n",
      "loss: 1.0878071784973145\n",
      "Epoch 13\n",
      "loss: 1.087348461151123\n",
      "Epoch 14\n",
      "loss: 1.086920142173767\n",
      "Epoch 15\n",
      "loss: 1.0865323543548584\n",
      "Epoch 16\n",
      "loss: 1.086174488067627\n",
      "Epoch 17\n",
      "loss: 1.0858628749847412\n",
      "Epoch 18\n",
      "loss: 1.0855845212936401\n",
      "Epoch 19\n",
      "loss: 1.0854016542434692\n",
      "Epoch 20\n",
      "loss: 1.085187315940857\n",
      "Epoch 21\n",
      "loss: 1.0849668979644775\n",
      "Epoch 22\n",
      "loss: 1.0847266912460327\n",
      "Epoch 23\n",
      "loss: 1.0845065116882324\n",
      "Epoch 24\n",
      "loss: 1.0842607021331787\n",
      "Epoch 25\n",
      "loss: 1.0840308666229248\n",
      "Epoch 26\n",
      "loss: 1.0838323831558228\n",
      "Epoch 27\n",
      "loss: 1.0836454629898071\n",
      "Epoch 28\n",
      "loss: 1.0834791660308838\n",
      "Epoch 29\n",
      "loss: 1.0833290815353394\n",
      "Epoch 30\n",
      "loss: 1.0831936597824097\n",
      "Epoch 31\n",
      "loss: 1.0830743312835693\n",
      "Epoch 32\n",
      "loss: 1.082971453666687\n",
      "Epoch 33\n",
      "loss: 1.0828834772109985\n",
      "Epoch 34\n",
      "loss: 1.082808017730713\n",
      "Epoch 35\n",
      "loss: 1.0827444791793823\n",
      "Epoch 36\n",
      "loss: 1.082690954208374\n",
      "Epoch 37\n",
      "loss: 1.0826458930969238\n",
      "Epoch 38\n",
      "loss: 1.0826071500778198\n",
      "Epoch 39\n",
      "loss: 1.0825737714767456\n",
      "Epoch 40\n",
      "loss: 1.0825445652008057\n",
      "Epoch 41\n",
      "loss: 1.0825188159942627\n",
      "Epoch 42\n",
      "loss: 1.082495927810669\n",
      "Epoch 43\n",
      "loss: 1.0824750661849976\n",
      "Epoch 44\n",
      "loss: 1.0824557542800903\n",
      "Epoch 45\n",
      "loss: 1.0824378728866577\n",
      "Epoch 46\n",
      "loss: 1.0824209451675415\n",
      "Epoch 47\n",
      "loss: 1.0824052095413208\n",
      "Epoch 48\n",
      "loss: 1.082390308380127\n",
      "Epoch 49\n",
      "loss: 1.0823763608932495\n",
      "Epoch 50\n",
      "loss: 1.082363486289978\n",
      "Epoch 51\n",
      "loss: 1.0823514461517334\n",
      "Epoch 52\n",
      "loss: 1.0823402404785156\n",
      "Epoch 53\n",
      "loss: 1.0823301076889038\n",
      "Epoch 54\n",
      "loss: 1.0823200941085815\n",
      "Epoch 55\n",
      "loss: 1.0823109149932861\n",
      "Epoch 56\n",
      "loss: 1.082302451133728\n",
      "Epoch 57\n",
      "loss: 1.0822951793670654\n",
      "Epoch 58\n",
      "loss: 1.0822888612747192\n",
      "Epoch 59\n",
      "loss: 1.0822845697402954\n",
      "Epoch 60\n",
      "loss: 1.0822815895080566\n",
      "Epoch 61\n",
      "loss: 1.0822787284851074\n",
      "Epoch 62\n",
      "loss: 1.0822752714157104\n",
      "Epoch 63\n",
      "loss: 1.0822712182998657\n",
      "Epoch 64\n",
      "loss: 1.0822677612304688\n",
      "Epoch 65\n",
      "loss: 1.0822646617889404\n",
      "Epoch 66\n",
      "loss: 1.0822631120681763\n",
      "Epoch 67\n",
      "loss: 1.0822616815567017\n",
      "Epoch 68\n",
      "loss: 1.082260012626648\n",
      "Epoch 69\n",
      "loss: 1.0822581052780151\n",
      "Epoch 70\n",
      "loss: 1.0822558403015137\n",
      "Epoch 71\n",
      "loss: 1.0822532176971436\n",
      "Epoch 72\n",
      "loss: 1.0822510719299316\n",
      "Epoch 73\n",
      "loss: 1.082249402999878\n",
      "Epoch 74\n",
      "loss: 1.0822476148605347\n",
      "Epoch 75\n",
      "loss: 1.082245945930481\n",
      "Epoch 76\n",
      "loss: 1.0822436809539795\n",
      "Epoch 77\n",
      "loss: 1.0822416543960571\n",
      "Epoch 78\n",
      "loss: 1.0822392702102661\n",
      "Epoch 79\n",
      "loss: 1.0822371244430542\n",
      "Epoch 80\n",
      "loss: 1.082235336303711\n",
      "Epoch 81\n",
      "loss: 1.0822333097457886\n",
      "Epoch 82\n",
      "loss: 1.0822312831878662\n",
      "Epoch 83\n",
      "loss: 1.0822291374206543\n",
      "Epoch 84\n",
      "loss: 1.0822268724441528\n",
      "Epoch 85\n",
      "loss: 1.08222496509552\n",
      "Epoch 86\n",
      "loss: 1.0822230577468872\n",
      "Epoch 87\n",
      "loss: 1.0822213888168335\n",
      "Epoch 88\n",
      "loss: 1.0822194814682007\n",
      "Epoch 89\n",
      "loss: 1.082217812538147\n",
      "Epoch 90\n",
      "loss: 1.0822159051895142\n",
      "Epoch 91\n",
      "loss: 1.082214117050171\n",
      "Epoch 92\n",
      "loss: 1.0822126865386963\n",
      "Epoch 93\n",
      "loss: 1.0822111368179321\n",
      "Epoch 94\n",
      "loss: 1.0822093486785889\n",
      "Epoch 95\n",
      "loss: 1.0822077989578247\n",
      "Epoch 96\n",
      "loss: 1.0822062492370605\n",
      "Epoch 97\n",
      "loss: 1.082204818725586\n",
      "Epoch 98\n",
      "loss: 1.0822032690048218\n",
      "Epoch 99\n",
      "loss: 1.0822020769119263\n",
      "Epoch 100\n",
      "loss: 1.0822006464004517\n"
     ]
    }
   ],
   "source": [
    "from torch.autograd import Variable\n",
    "\n",
    "#넘파이배열로부터 텐서를 만들고\n",
    "X_train = Variable(torch.from_numpy(X_train)).float()\n",
    "y_train = Variable(torch.from_numpy(y_train)).long()\n",
    "\n",
    "for epoch in range(1, epochs+1):\n",
    "    print(\"Epoch\",epoch)\n",
    "\n",
    "    #예측값\n",
    "    y_pred = model(X_train)\n",
    "    #손실함수에 예측값과 실제값을 입력\n",
    "    loss = loss_fn(y_pred, y_train)\n",
    "    print('loss:',loss.item())\n",
    "\n",
    "    # 경사 초기화\n",
    "    optimizer.zero_grad()   # 가중치, 편향\n",
    "    loss.backward() # 역전파\n",
    "    optimizer.step() # 가중치 업데이트"
   ]
  },
  {
   "cell_type": "code",
   "execution_count": null,
   "metadata": {},
   "outputs": [],
   "source": [
    "# Prediction\n",
    "X_test = Variable(torch.from_numpy(X_test)).float()\n",
    "pred = model(X_test)\n",
    "\n",
    "# 모형의 정확도 측정\n",
    "from sklearn.metrics import accuracy_score\n",
    "accuracy_score(y_test, np.argmax(pred.data.numpy(), axis=1))\n",
    "                        # 최대값의 인덱스값"
   ]
  },
  {
   "cell_type": "code",
   "execution_count": 24,
   "metadata": {},
   "outputs": [],
   "source": [
    "# 모델 저장\n",
    "torch.save(model, \"c:/vscode/data/iris/iris-torch.model\")"
   ]
  },
  {
   "cell_type": "code",
   "execution_count": 25,
   "metadata": {},
   "outputs": [],
   "source": [
    "# 모델 불러오기\n",
    "model2 = torch.load(\"c:/vscode/data/iris/iris-torch.model\")"
   ]
  },
  {
   "cell_type": "code",
   "execution_count": 27,
   "metadata": {},
   "outputs": [
    {
     "data": {
      "text/plain": [
       "==========================================================================================\n",
       "Layer (type:depth-idx)                   Output Shape              Param #\n",
       "==========================================================================================\n",
       "Model                                    [32, 3]                   --\n",
       "├─Linear: 1-1                            [32, 50]                  250\n",
       "├─Linear: 1-2                            [32, 20]                  1,020\n",
       "├─Linear: 1-3                            [32, 3]                   63\n",
       "==========================================================================================\n",
       "Total params: 1,333\n",
       "Trainable params: 1,333\n",
       "Non-trainable params: 0\n",
       "Total mult-adds (M): 0.04\n",
       "==========================================================================================\n",
       "Input size (MB): 0.00\n",
       "Forward/backward pass size (MB): 0.02\n",
       "Params size (MB): 0.01\n",
       "Estimated Total Size (MB): 0.02\n",
       "=========================================================================================="
      ]
     },
     "execution_count": 27,
     "metadata": {},
     "output_type": "execute_result"
    }
   ],
   "source": [
    "from torchinfo import summary\n",
    "summary(model, input_size=(32, 4))"
   ]
  },
  {
   "attachments": {},
   "cell_type": "markdown",
   "metadata": {},
   "source": [
    "> gpu 사용법"
   ]
  },
  {
   "cell_type": "code",
   "execution_count": 1,
   "metadata": {},
   "outputs": [
    {
     "name": "stdout",
     "output_type": "stream",
     "text": [
      "True\n"
     ]
    }
   ],
   "source": [
    "import torch\n",
    "#gpu 사용 가능 여부\n",
    "print(torch.cuda.is_available())"
   ]
  },
  {
   "cell_type": "code",
   "execution_count": 2,
   "metadata": {},
   "outputs": [
    {
     "name": "stdout",
     "output_type": "stream",
     "text": [
      "0\n"
     ]
    }
   ],
   "source": [
    "#gpu 장치의 인덱스\n",
    "print(torch.cuda.current_device())"
   ]
  },
  {
   "cell_type": "code",
   "execution_count": 3,
   "metadata": {},
   "outputs": [
    {
     "name": "stdout",
     "output_type": "stream",
     "text": [
      "1\n"
     ]
    }
   ],
   "source": [
    "# 사용가능한 gpu 장치수\n",
    "print(torch.cuda.device_count())"
   ]
  },
  {
   "cell_type": "code",
   "execution_count": 4,
   "metadata": {},
   "outputs": [
    {
     "name": "stdout",
     "output_type": "stream",
     "text": [
      "NVIDIA GeForce GTX 1050 Ti\n"
     ]
    }
   ],
   "source": [
    "# gpu의 이름\n",
    "print(torch.cuda.get_device_name(0))"
   ]
  },
  {
   "cell_type": "code",
   "execution_count": null,
   "metadata": {},
   "outputs": [],
   "source": [
    "import torch\n",
    "# Default CUDA device\n",
    "cuda = torch.device('cuda')\n",
    "# 텐서 자료를 gpu에 저장\n",
    "a = torch.tensor([1, 2], device=cuda)\n",
    "b = torch.tensor([1, 2]).cuda()\n",
    "c = torch.tensor([1, 2]).to(device=cuda)\n",
    "print(a)\n",
    "print(b)\n",
    "print(c)"
   ]
  },
  {
   "cell_type": "code",
   "execution_count": null,
   "metadata": {},
   "outputs": [],
   "source": [
    "#사용하지 않는 텐서 정리\n",
    "torch.cuda.empty_cache()"
   ]
  }
 ],
 "metadata": {
  "kernelspec": {
   "display_name": "base",
   "language": "python",
   "name": "python3"
  },
  "language_info": {
   "codemirror_mode": {
    "name": "ipython",
    "version": 3
   },
   "file_extension": ".py",
   "mimetype": "text/x-python",
   "name": "python",
   "nbconvert_exporter": "python",
   "pygments_lexer": "ipython3",
   "version": "3.9.13"
  },
  "orig_nbformat": 4
 },
 "nbformat": 4,
 "nbformat_minor": 2
}
