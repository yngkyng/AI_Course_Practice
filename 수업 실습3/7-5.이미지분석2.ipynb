{
 "cells": [
  {
   "attachments": {},
   "cell_type": "markdown",
   "metadata": {},
   "source": [
    "> mnist 분류"
   ]
  },
  {
   "cell_type": "code",
   "execution_count": 1,
   "metadata": {},
   "outputs": [],
   "source": [
    "from torch.utils.data import Dataset\n",
    "import pandas as pd\n",
    "import torch\n",
    "import matplotlib.pyplot as plt\n",
    "import os\n",
    "os.environ['KMP_DUPLICATE_LIB_OK']='True' #커널충돌방지코드"
   ]
  },
  {
   "cell_type": "code",
   "execution_count": 2,
   "metadata": {},
   "outputs": [],
   "source": [
    "class MnistDataset(Dataset):\n",
    "    def __init__(self, csv_file):\n",
    "        self.data_df = pd.read_csv(csv_file, header=None)\n",
    "    def __len__(self):\n",
    "        return len(self.data_df)\n",
    "    def __getitem__(self, index):\n",
    "        label = self.data_df.iloc[index,0]\n",
    "        target = torch.zeros((10))\n",
    "        target[label] = 1.0\n",
    "        #정규화\n",
    "        image_values = torch.FloatTensor(self.data_df.iloc[index,1:].values) / 255.0\n",
    "        return label, image_values, target\n",
    "    def plot_image(self, index):\n",
    "        img = self.data_df.iloc[index,1:].values.reshape(28,28)\n",
    "        plt.title(\"label = \" +\n",
    "        str(self.data_df.iloc[index,0]))\n",
    "        plt.imshow(img, interpolation='none', cmap='Blues')"
   ]
  },
  {
   "cell_type": "code",
   "execution_count": 5,
   "metadata": {},
   "outputs": [],
   "source": [
    "mnist_dataset = MnistDataset('C:/vscode/data/mnist_train.csv')"
   ]
  },
  {
   "cell_type": "code",
   "execution_count": 6,
   "metadata": {},
   "outputs": [
    {
     "data": {
      "image/png": "[encoded data removed]",
      "text/plain": [
       "<Figure size 640x480 with 1 Axes>"
      ]
     },
     "metadata": {},
     "output_type": "display_data"
    }
   ],
   "source": [
    "mnist_dataset.plot_image(9)"
   ]
  },
  {
   "cell_type": "code",
   "execution_count": 7,
   "metadata": {},
   "outputs": [
    {
     "name": "stdout",
     "output_type": "stream",
     "text": [
      "5\n",
      "tensor([0., 0., 0., 0., 0., 0., 0., 0., 0., 0., 0., 0., 0., 0., 0., 0., 0., 0., 0., 0., 0., 0., 0., 0.,\n",
      "        0., 0., 0., 0., 0., 0., 0., 0., 0., 0., 0., 0., 0., 0., 0., 0., 0., 0., 0., 0., 0., 0., 0., 0.,\n",
      "        0., 0., 0., 0., 0., 0., 0., 0., 0., 0., 0., 0., 0., 0., 0., 0., 0., 0., 0., 0., 0., 0., 0., 0.,\n",
      "        0., 0., 0., 0., 0., 0., 0., 0., 0., 0., 0., 0., 0., 0., 0., 0., 0., 0., 0., 0., 0., 0., 0., 0.,\n",
      "        0., 0., 0., 0.])\n"
     ]
    }
   ],
   "source": [
    "print(mnist_dataset[100][0])\n",
    "print(mnist_dataset[100][1][:100])"
   ]
  },
  {
   "cell_type": "code",
   "execution_count": 3,
   "metadata": {},
   "outputs": [],
   "source": [
    "import torch.nn as nn\n",
    "class Classifier(nn.Module):\n",
    "    def __init__(self):\n",
    "        super().__init__()\n",
    "        self.model = nn.Sequential(\n",
    "            nn.Linear(784, 200),\n",
    "            nn.Sigmoid(),\n",
    "            nn.Linear(200, 10),\n",
    "            nn.Sigmoid()\n",
    "        )\n",
    "        self.loss_function = nn.MSELoss()\n",
    "        self.optimiser = torch.optim.SGD(self.parameters(), lr=0.01)\n",
    "        self.counter = 0\n",
    "        self.progress = []\n",
    "    def forward(self, inputs):\n",
    "        return self.model(inputs)\n",
    "    def train(self, inputs, targets):\n",
    "        outputs = self.forward(inputs)\n",
    "        loss = self.loss_function(outputs, targets)\n",
    "        self.counter += 1\n",
    "        if self.counter % 10 == 0:\n",
    "            self.progress.append(loss.item())\n",
    "        if self.counter % 10000 == 0:\n",
    "            print(\"counter = \", self.counter)\n",
    "        self.optimiser.zero_grad()\n",
    "        loss.backward()\n",
    "        self.optimiser.step()"
   ]
  },
  {
   "cell_type": "code",
   "execution_count": 8,
   "metadata": {},
   "outputs": [
    {
     "name": "stdout",
     "output_type": "stream",
     "text": [
      "epoch 1 / 4\n",
      "counter =  10000\n",
      "counter =  20000\n",
      "counter =  30000\n",
      "counter =  40000\n",
      "counter =  50000\n",
      "counter =  60000\n",
      "epoch 2 / 4\n",
      "counter =  70000\n",
      "counter =  80000\n",
      "counter =  90000\n",
      "counter =  100000\n",
      "counter =  110000\n",
      "counter =  120000\n",
      "epoch 3 / 4\n",
      "counter =  130000\n",
      "counter =  140000\n",
      "counter =  150000\n",
      "counter =  160000\n",
      "counter =  170000\n",
      "counter =  180000\n",
      "epoch 4 / 4\n",
      "counter =  190000\n",
      "counter =  200000\n",
      "counter =  210000\n",
      "counter =  220000\n",
      "counter =  230000\n",
      "counter =  240000\n"
     ]
    }
   ],
   "source": [
    "model = Classifier()\n",
    "epochs = 4\n",
    "for i in range(epochs):\n",
    "    print('epoch', i+1, \"/\", epochs)\n",
    "    for label, image_data_tensor, target_tensor in mnist_dataset: \n",
    "        model.train(image_data_tensor, target_tensor)"
   ]
  },
  {
   "cell_type": "code",
   "execution_count": 9,
   "metadata": {},
   "outputs": [],
   "source": [
    "mnist_test_dataset = MnistDataset('C:/vscode/data/mnist_test.csv')"
   ]
  },
  {
   "cell_type": "code",
   "execution_count": 10,
   "metadata": {},
   "outputs": [
    {
     "data": {
      "image/png": "[encoded data removed]",
      "text/plain": [
       "<Figure size 640x480 with 1 Axes>"
      ]
     },
     "metadata": {},
     "output_type": "display_data"
    }
   ],
   "source": [
    "idx = 19\n",
    "mnist_test_dataset.plot_image(idx)"
   ]
  },
  {
   "cell_type": "code",
   "execution_count": 11,
   "metadata": {},
   "outputs": [
    {
     "data": {
      "text/plain": [
       "<AxesSubplot:>"
      ]
     },
     "execution_count": 11,
     "metadata": {},
     "output_type": "execute_result"
    },
    {
     "data": {
      "image/png": "[encoded data removed]",
      "text/plain": [
       "<Figure size 640x480 with 1 Axes>"
      ]
     },
     "metadata": {},
     "output_type": "display_data"
    }
   ],
   "source": [
    "image_data = mnist_test_dataset[idx][1]\n",
    "output = model.forward(image_data)\n",
    "pd.DataFrame(output.detach().numpy()).plot(kind='bar', legend=False, ylim=(0,1))"
   ]
  },
  {
   "cell_type": "code",
   "execution_count": 12,
   "metadata": {},
   "outputs": [
    {
     "name": "stdout",
     "output_type": "stream",
     "text": [
      "8808 10000 0.8808\n"
     ]
    }
   ],
   "source": [
    "score = 0\n",
    "items = 0\n",
    "for label, image_data_tensor, target_tensor in mnist_test_dataset:\n",
    "    answer = model.forward(image_data_tensor).detach().numpy()\n",
    "    if answer.argmax() == label:\n",
    "        score += 1\n",
    "    items += 1\n",
    "print(score, items, score/items)"
   ]
  },
  {
   "attachments": {},
   "cell_type": "markdown",
   "metadata": {},
   "source": [
    "> GAN 적대적 생성모델"
   ]
  },
  {
   "cell_type": "code",
   "execution_count": 13,
   "metadata": {},
   "outputs": [],
   "source": [
    "import torch\n",
    "import random\n",
    "\n",
    "# real 이미지 생성 함수\n",
    "def generate_real():\n",
    "    real_data = torch.FloatTensor(\n",
    "                [random.uniform(0.8, 1.0),\n",
    "                random.uniform(0.0, 0.2),\n",
    "                random.uniform(0.8, 1.0),\n",
    "                random.uniform(0.0, 0.2)])\n",
    "    return real_data\n",
    "\n",
    "# random 이미지 생성 함수\n",
    "def generate_random(size):\n",
    "    random_data = torch.rand(size)\n",
    "    return random_data"
   ]
  },
  {
   "cell_type": "code",
   "execution_count": 15,
   "metadata": {},
   "outputs": [],
   "source": [
    "import torch.nn as nn\n",
    "import pandas as pd\n",
    "\n",
    "# 판별모형\n",
    "class Discriminator(nn.Module):\n",
    "    def __init__(self):\n",
    "        super().__init__()\n",
    "        self.model = nn.Sequential(\n",
    "            nn.Linear(4, 3),\n",
    "            nn.Sigmoid(),\n",
    "            nn.Linear(3, 1),\n",
    "            nn.Sigmoid()\n",
    "        )\n",
    "        self.loss_function = nn.MSELoss()\n",
    "        self.optimiser = torch.optim.SGD(self.parameters(), lr=0.01)\n",
    "        self.counter = 0\n",
    "        self.progress = []\n",
    "    def forward(self, inputs):\n",
    "        return self.model(inputs)\n",
    "    def train(self, inputs, targets):\n",
    "        outputs = self.forward(inputs)\n",
    "        loss = self.loss_function(outputs, targets)\n",
    "        self.counter += 1\n",
    "        if self.counter % 10 == 0:\n",
    "            self.progress.append(loss.item())\n",
    "        if self.counter % 10000 == 0:\n",
    "            print(\"counter = \", self.counter)\n",
    "        self.optimiser.zero_grad()\n",
    "        loss.backward()\n",
    "        self.optimiser.step()"
   ]
  },
  {
   "cell_type": "code",
   "execution_count": 16,
   "metadata": {},
   "outputs": [
    {
     "name": "stdout",
     "output_type": "stream",
     "text": [
      "counter =  10000\n",
      "counter =  20000\n"
     ]
    }
   ],
   "source": [
    "D = Discriminator()\n",
    "for i in range(10000):\n",
    "    # real image\n",
    "    D.train(generate_real(), torch.FloatTensor([1.0]))\n",
    "    # fake image\n",
    "    D.train(generate_random(4), torch.FloatTensor([0.0]))"
   ]
  },
  {
   "cell_type": "code",
   "execution_count": 17,
   "metadata": {},
   "outputs": [
    {
     "name": "stdout",
     "output_type": "stream",
     "text": [
      "0.8093496561050415\n",
      "0.08872891217470169\n"
     ]
    }
   ],
   "source": [
    "print( D.forward( generate_real() ).item() )\n",
    "print( D.forward( generate_random(4) ).item() )"
   ]
  },
  {
   "cell_type": "code",
   "execution_count": 18,
   "metadata": {},
   "outputs": [],
   "source": [
    "# 생성모형\n",
    "class Generator(nn.Module):\n",
    "    def __init__(self):\n",
    "        super().__init__()\n",
    "        self.model = nn.Sequential(\n",
    "                nn.Linear(1, 3),\n",
    "                nn.Sigmoid(),\n",
    "                nn.Linear(3, 4),\n",
    "                nn.Sigmoid()\n",
    "        )\n",
    "        self.optimiser = torch.optim.SGD(self.parameters(), lr=0.01)\n",
    "        self.counter = 0\n",
    "        self.progress = []\n",
    "    def forward(self, inputs):\n",
    "        return self.model(inputs)\n",
    "    def train(self, D, inputs, targets):\n",
    "        g_output = self.forward(inputs)\n",
    "        d_output = D.forward(g_output)\n",
    "        loss = D.loss_function(d_output, targets)\n",
    "        self.counter += 1\n",
    "        if self.counter % 10 == 0:\n",
    "            self.progress.append(loss.item())\n",
    "        self.optimiser.zero_grad()\n",
    "        loss.backward()\n",
    "        self.optimiser.step()"
   ]
  },
  {
   "cell_type": "code",
   "execution_count": 19,
   "metadata": {},
   "outputs": [
    {
     "data": {
      "text/plain": [
       "tensor([0.6603, 0.4835, 0.5164, 0.3940], grad_fn=<SigmoidBackward0>)"
      ]
     },
     "execution_count": 19,
     "metadata": {},
     "output_type": "execute_result"
    }
   ],
   "source": [
    "G = Generator()\n",
    "G.forward(torch.FloatTensor([0.5]))"
   ]
  },
  {
   "cell_type": "code",
   "execution_count": 20,
   "metadata": {},
   "outputs": [
    {
     "name": "stdout",
     "output_type": "stream",
     "text": [
      "counter =  10000\n",
      "counter =  20000\n"
     ]
    }
   ],
   "source": [
    "D = Discriminator()\n",
    "G = Generator()\n",
    "image_list = []\n",
    "for i in range(10000):\n",
    "    D.train(generate_real(), torch.FloatTensor([1.0]))\n",
    "    # 판별모형 학습(false)\n",
    "    D.train(G.forward(torch.FloatTensor([0.5])).detach(), torch.FloatTensor([0.0]))\n",
    "    # 생성모형 학습\n",
    "    G.train(D, torch.FloatTensor([0.5]), torch.FloatTensor([1.0]))\n",
    "    if i % 1000 == 0:\n",
    "        image_list.append(G.forward(torch.FloatTensor([0.5])).detach().numpy() )"
   ]
  },
  {
   "cell_type": "code",
   "execution_count": 21,
   "metadata": {},
   "outputs": [
    {
     "data": {
      "text/plain": [
       "tensor([0.9590, 0.0322, 0.9302, 0.0385], grad_fn=<SigmoidBackward0>)"
      ]
     },
     "execution_count": 21,
     "metadata": {},
     "output_type": "execute_result"
    }
   ],
   "source": [
    "G.forward(torch.FloatTensor([0.5]))"
   ]
  },
  {
   "cell_type": "code",
   "execution_count": 22,
   "metadata": {},
   "outputs": [
    {
     "data": {
      "text/plain": [
       "[array([0.29220724, 0.688177  , 0.5317411 , 0.58231264], dtype=float32),\n",
       " array([0.303077 , 0.687327 , 0.5238067, 0.5896687], dtype=float32),\n",
       " array([0.3349667 , 0.6717235 , 0.52469873, 0.58068144], dtype=float32),\n",
       " array([0.42515177, 0.6103426 , 0.5492663 , 0.5311955 ], dtype=float32),\n",
       " array([0.62129164, 0.4290548 , 0.6182009 , 0.392392  ], dtype=float32),\n",
       " array([0.80388117, 0.20294684, 0.7170663 , 0.21311706], dtype=float32),\n",
       " array([0.88650703, 0.1024001 , 0.8019389 , 0.11614873], dtype=float32),\n",
       " array([0.92265546, 0.06452891, 0.8585539 , 0.07503688], dtype=float32),\n",
       " array([0.94120795, 0.04716913, 0.893653  , 0.05545247], dtype=float32),\n",
       " array([0.952079  , 0.03778998, 0.9157357 , 0.04481357], dtype=float32)]"
      ]
     },
     "execution_count": 22,
     "metadata": {},
     "output_type": "execute_result"
    }
   ],
   "source": [
    "# 생성된 패턴\n",
    "image_list"
   ]
  },
  {
   "cell_type": "code",
   "execution_count": 23,
   "metadata": {},
   "outputs": [
    {
     "data": {
      "image/png": "[encoded data removed]",
      "text/plain": [
       "<Figure size 1600x800 with 1 Axes>"
      ]
     },
     "metadata": {},
     "output_type": "display_data"
    }
   ],
   "source": [
    "import matplotlib.pyplot as plt\n",
    "import os\n",
    "os.environ['KMP_DUPLICATE_LIB_OK']='True'\n",
    "import numpy as np\n",
    "plt.figure(figsize = (16,8))\n",
    "plt.imshow(np.array(image_list).T, interpolation='none', cmap='Blues')\n",
    "plt.show()"
   ]
  },
  {
   "attachments": {},
   "cell_type": "markdown",
   "metadata": {},
   "source": [
    "> GAN (mnist)"
   ]
  },
  {
   "cell_type": "code",
   "execution_count": 24,
   "metadata": {},
   "outputs": [
    {
     "data": {
      "text/plain": [
       "device(type='cuda')"
      ]
     },
     "execution_count": 24,
     "metadata": {},
     "output_type": "execute_result"
    }
   ],
   "source": [
    "import os\n",
    "os.environ['KMP_DUPLICATE_LIB_OK']='True'\n",
    "import torch.nn as nn\n",
    "from torch.utils.data import Dataset\n",
    "import numpy, random\n",
    "import pandas as pd\n",
    "import matplotlib.pyplot as plt\n",
    "\n",
    "import torch\n",
    "USE_CUDA = torch.cuda.is_available()\n",
    "DEVICE = torch.device(\"cuda\" if USE_CUDA else \"cpu\")\n",
    "DEVICE"
   ]
  },
  {
   "cell_type": "code",
   "execution_count": 25,
   "metadata": {},
   "outputs": [],
   "source": [
    "# dataset class\n",
    "class MnistDataset(Dataset):\n",
    "    def __init__(self, csv_file):\n",
    "        self.data_df = pd.read_csv(csv_file, header=None)\n",
    "    def __len__(self):\n",
    "        return len(self.data_df)\n",
    "    def __getitem__(self, index):\n",
    "        # image target (label)\n",
    "        label = self.data_df.iloc[index,0]\n",
    "        target = torch.zeros((10))\n",
    "        target[label] = 1.0\n",
    "        # image data\n",
    "        image_values = torch.FloatTensor(self.data_df.iloc[index,1:].values) / 255.0\n",
    "        return label, image_values, target\n",
    "    def plot_image(self, index):\n",
    "        img = self.data_df.iloc[index,1:].values.reshape(28,28)\n",
    "        plt.title(\"label = \" + str(self.data_df.iloc[index,0]))\n",
    "        plt.imshow(img, interpolation='none', cmap='Blues')"
   ]
  },
  {
   "cell_type": "code",
   "execution_count": 26,
   "metadata": {},
   "outputs": [],
   "source": [
    "mnist_dataset = MnistDataset('c:/vscode/data/mnist_train.csv')"
   ]
  },
  {
   "cell_type": "code",
   "execution_count": 27,
   "metadata": {},
   "outputs": [
    {
     "data": {
      "image/png": "[encoded data removed]",
      "text/plain": [
       "<Figure size 640x480 with 1 Axes>"
      ]
     },
     "metadata": {},
     "output_type": "display_data"
    }
   ],
   "source": [
    "mnist_dataset.plot_image(17)"
   ]
  },
  {
   "cell_type": "code",
   "execution_count": 28,
   "metadata": {},
   "outputs": [],
   "source": [
    "# 랜덤 이미지 생성 함수\n",
    "def generate_random_image(size):\n",
    "    random_data = torch.rand(size)\n",
    "    return random_data\n",
    "def generate_random_seed(size):\n",
    "    random_data = torch.randn(size)\n",
    "    return random_data"
   ]
  },
  {
   "cell_type": "code",
   "execution_count": 29,
   "metadata": {},
   "outputs": [],
   "source": [
    "# 판별모형\n",
    "class Discriminator(nn.Module):\n",
    "    def __init__(self):\n",
    "        super().__init__()\n",
    "        self.model = nn.Sequential(\n",
    "                nn.Linear(784, 200),\n",
    "                # 음수이면 기울기 0.02\n",
    "                nn.LeakyReLU(0.02),\n",
    "                # 레이어에 대한 정규화\n",
    "                nn.LayerNorm(200),\n",
    "                nn.Linear(200, 1),\n",
    "                nn.Sigmoid()\n",
    "        )\n",
    "\n",
    "        # binary cross entropy\n",
    "        self.loss_function = nn.BCELoss()\n",
    "        self.optimiser = torch.optim.Adam(self.parameters(), lr=0.0001)\n",
    "        self.counter = 0\n",
    "        self.progress = []\n",
    "\n",
    "    def forward(self, inputs):\n",
    "        return self.model(inputs)\n",
    "    \n",
    "    def train(self, inputs, targets):\n",
    "        outputs = self.forward(inputs.to(DEVICE))\n",
    "        loss = self.loss_function(outputs, targets.to(DEVICE))\n",
    "        self.counter += 1\n",
    "        if self.counter % 10 == 0:\n",
    "            self.progress.append(loss.item())\n",
    "        if self.counter % 10000 == 0:\n",
    "            print(\"counter = \", self.counter)\n",
    "        self.optimiser.zero_grad()\n",
    "        loss.backward()\n",
    "        self.optimiser.step()\n",
    "        \n",
    "    def plot_progress(self):\n",
    "        df = pd.DataFrame(self.progress, columns=['loss'])\n",
    "        df.plot(ylim=(0), figsize=(16,8), alpha=0.1,\n",
    "            marker='.', grid=True, yticks=(0, 0.25, 0.5, 1.0, 5.0))"
   ]
  },
  {
   "cell_type": "code",
   "execution_count": 30,
   "metadata": {},
   "outputs": [
    {
     "name": "stdout",
     "output_type": "stream",
     "text": [
      "counter =  10000\n",
      "counter =  20000\n",
      "counter =  30000\n",
      "counter =  40000\n",
      "counter =  50000\n",
      "counter =  60000\n",
      "counter =  70000\n",
      "counter =  80000\n",
      "counter =  90000\n",
      "counter =  100000\n",
      "counter =  110000\n",
      "counter =  120000\n"
     ]
    }
   ],
   "source": [
    "D = Discriminator().to(DEVICE)\n",
    "for label, image_data_tensor, target_tensor in mnist_dataset:\n",
    "    # real data\n",
    "    D.train(image_data_tensor, torch.FloatTensor([1.0]))\n",
    "    # fake data\n",
    "    D.train(generate_random_image(784), torch.FloatTensor([0.0]))"
   ]
  },
  {
   "cell_type": "code",
   "execution_count": 31,
   "metadata": {},
   "outputs": [
    {
     "data": {
      "image/png": "[encoded data removed]",
      "text/plain": [
       "<Figure size 1600x800 with 1 Axes>"
      ]
     },
     "metadata": {},
     "output_type": "display_data"
    }
   ],
   "source": [
    "D.plot_progress()"
   ]
  },
  {
   "cell_type": "code",
   "execution_count": 32,
   "metadata": {},
   "outputs": [
    {
     "name": "stdout",
     "output_type": "stream",
     "text": [
      "1.0\n",
      "1.0\n",
      "1.0\n",
      "1.0\n",
      "9.23604335373307e-12\n",
      "9.601896534816579e-12\n",
      "8.543427250373714e-12\n",
      "8.636849915810707e-12\n"
     ]
    }
   ],
   "source": [
    "# test real data\n",
    "for i in range(4):\n",
    "    image_data_tensor = mnist_dataset[random.randint(0,60000)][1]\n",
    "    print( D.forward( image_data_tensor.to(DEVICE) ).item())\n",
    "# test fake data\n",
    "for i in range(4):\n",
    "    print( D.forward( generate_random_image(784).to(DEVICE)).item() )   "
   ]
  },
  {
   "cell_type": "code",
   "execution_count": 33,
   "metadata": {},
   "outputs": [],
   "source": [
    "# 생성모델\n",
    "class Generator(nn.Module):\n",
    "    def __init__(self):\n",
    "        super().__init__()\n",
    "        self.model = nn.Sequential(\n",
    "                nn.Linear(100, 200),\n",
    "                nn.LeakyReLU(0.02),\n",
    "                nn.LayerNorm(200),\n",
    "                nn.Linear(200, 784),\n",
    "                nn.Sigmoid()\n",
    "        )\n",
    "        self.optimiser = torch.optim.Adam(self.parameters(), lr=0.0001)\n",
    "        self.counter = 0\n",
    "        self.progress = []\n",
    "\n",
    "    def forward(self, inputs):\n",
    "        return self.model(inputs.to(DEVICE))\n",
    "    \n",
    "    def train(self, D, inputs, targets):\n",
    "        g_output = self.forward(inputs.to(DEVICE))\n",
    "        d_output = D.forward(g_output)\n",
    "        loss = D.loss_function(d_output, targets.to(DEVICE))\n",
    "        self.counter += 1\n",
    "        if self.counter % 10 == 0:\n",
    "            self.progress.append(loss.item())\n",
    "        self.optimiser.zero_grad()\n",
    "        loss.backward()\n",
    "        self.optimiser.step()\n",
    "        \n",
    "    def plot_progress(self):\n",
    "        df = pd.DataFrame(self.progress, columns=['loss'])\n",
    "        df.plot(ylim=(0), figsize=(16,8), alpha=0.1,\n",
    "        marker='.', grid=True, yticks=(0, 0.25, 0.5, 1.0, 5.0))"
   ]
  },
  {
   "cell_type": "code",
   "execution_count": 34,
   "metadata": {},
   "outputs": [
    {
     "data": {
      "image/png": "[encoded data removed]",
      "text/plain": [
       "<Figure size 640x480 with 1 Axes>"
      ]
     },
     "metadata": {},
     "output_type": "display_data"
    }
   ],
   "source": [
    "G = Generator().to(DEVICE)\n",
    "output = G.forward(generate_random_seed(100))\n",
    "#output = G.forward(generate_random_image(100))\n",
    "img = output.cpu().detach().numpy().reshape(28,28)\n",
    "plt.imshow(img, cmap='Blues')\n",
    "plt.show()"
   ]
  },
  {
   "cell_type": "code",
   "execution_count": null,
   "metadata": {},
   "outputs": [],
   "source": [
    "D = Discriminator().to(DEVICE)\n",
    "G = Generator().to(DEVICE)\n",
    "epochs = 4\n",
    "for epoch in range(epochs):\n",
    "    print (\"epoch = \", epoch + 1)\n",
    "    \n",
    "for label, image_data_tensor, target_tensor in mnist_dataset:\n",
    "    # 판별모형 훈련(true)\n",
    "    D.train(image_data_tensor, torch.FloatTensor([1.0]))\n",
    "    # 판별모형 훈련(false)\n",
    "    D.train(G.forward(generate_random_seed(100)).detach(), torch.FloatTensor([0.0]))\n",
    "    # 생성모형 훈련\n",
    "    G.train(D, generate_random_seed(100), torch.FloatTensor([1.0]))"
   ]
  },
  {
   "cell_type": "code",
   "execution_count": null,
   "metadata": {},
   "outputs": [],
   "source": [
    "print(D.plot_progress()) #판독오차\n",
    "print(G.plot_progress()) #생성오차"
   ]
  },
  {
   "cell_type": "code",
   "execution_count": null,
   "metadata": {},
   "outputs": [],
   "source": [
    "# torch.save(G,'final_G.h5')\n",
    "\n",
    "print(G.model[3].weight[0][:10])\n",
    "print(G.model[3].bias[:10])"
   ]
  },
  {
   "attachments": {},
   "cell_type": "markdown",
   "metadata": {},
   "source": [
    "> 학습된 모형 불러오기"
   ]
  },
  {
   "cell_type": "code",
   "execution_count": 2,
   "metadata": {},
   "outputs": [],
   "source": [
    "import torch.nn as nn\n",
    "import torch\n",
    "USE_CUDA = torch.cuda.is_available()\n",
    "DEVICE = torch.device(\"cuda\" if USE_CUDA else \"cpu\")"
   ]
  },
  {
   "cell_type": "code",
   "execution_count": 4,
   "metadata": {},
   "outputs": [],
   "source": [
    "import pandas as pd\n",
    "# 생성모델\n",
    "class Generator(nn.Module):\n",
    "    def __init__(self):\n",
    "        super().__init__()\n",
    "        self.model = nn.Sequential(\n",
    "                nn.Linear(100, 200),\n",
    "                nn.LeakyReLU(0.02),\n",
    "                nn.LayerNorm(200),\n",
    "                nn.Linear(200, 784),\n",
    "                nn.Sigmoid()\n",
    "        )\n",
    "        self.optimiser = torch.optim.Adam(self.parameters(), lr=0.0001)\n",
    "        self.counter = 0\n",
    "        self.progress = []\n",
    "\n",
    "    def forward(self, inputs):\n",
    "        return self.model(inputs.to(DEVICE))\n",
    "    \n",
    "    def train(self, D, inputs, targets):\n",
    "        g_output = self.forward(inputs.to(DEVICE))\n",
    "        d_output = D.forward(g_output)\n",
    "        loss = D.loss_function(d_output, targets.to(DEVICE))\n",
    "        self.counter += 1\n",
    "        if self.counter % 10 == 0:\n",
    "            self.progress.append(loss.item())\n",
    "        self.optimiser.zero_grad()\n",
    "        loss.backward()\n",
    "        self.optimiser.step()\n",
    "\n",
    "    def plot_progress(self):\n",
    "        df = pd.DataFrame(self.progress, columns=['loss'])\n",
    "        df.plot(ylim=(0), figsize=(16,8), alpha=0.1,\n",
    "        marker='.', grid=True, yticks=(0, 0.25, 0.5, 1.0, 5.0))"
   ]
  },
  {
   "cell_type": "code",
   "execution_count": 5,
   "metadata": {},
   "outputs": [
    {
     "data": {
      "text/plain": [
       "Generator(\n",
       "  (model): Sequential(\n",
       "    (0): Linear(in_features=100, out_features=200, bias=True)\n",
       "    (1): LeakyReLU(negative_slope=0.02)\n",
       "    (2): LayerNorm((200,), eps=1e-05, elementwise_affine=True)\n",
       "    (3): Linear(in_features=200, out_features=784, bias=True)\n",
       "    (4): Sigmoid()\n",
       "  )\n",
       ")"
      ]
     },
     "execution_count": 5,
     "metadata": {},
     "output_type": "execute_result"
    }
   ],
   "source": [
    "# 모델 불러오기\n",
    "G=torch.load('C:/vscode/강의자료/파이썬/final_G.h5')\n",
    "G.to(DEVICE)"
   ]
  },
  {
   "cell_type": "code",
   "execution_count": 40,
   "metadata": {},
   "outputs": [
    {
     "name": "stdout",
     "output_type": "stream",
     "text": [
      "tensor([-0.1824, -0.0151, -0.0939,  0.2924,  0.0319,  0.2362,  0.1372, -0.0187,\n",
      "        -0.1779, -0.0858], device='cuda:0', grad_fn=<SliceBackward0>)\n",
      "tensor([-0.3144, -0.2931, -0.3821, -0.3161, -0.3716, -0.3532, -0.3990, -0.2818,\n",
      "        -0.3520, -0.4434], device='cuda:0', grad_fn=<SliceBackward0>)\n"
     ]
    }
   ],
   "source": [
    "#학습된 가중치 확인\n",
    "print(G.model[3].weight[0][:10])\n",
    "print(G.model[3].bias[:10])"
   ]
  },
  {
   "cell_type": "code",
   "execution_count": 41,
   "metadata": {},
   "outputs": [],
   "source": [
    "def generate_random_seed(size):\n",
    "    random_data = torch.randn(size)\n",
    "    return random_data"
   ]
  },
  {
   "cell_type": "code",
   "execution_count": 42,
   "metadata": {},
   "outputs": [
    {
     "data": {
      "image/png": "[encoded data removed]",
      "text/plain": [
       "<Figure size 1200x600 with 6 Axes>"
      ]
     },
     "metadata": {},
     "output_type": "display_data"
    }
   ],
   "source": [
    "import os\n",
    "os.environ['KMP_DUPLICATE_LIB_OK']='True'\n",
    "import matplotlib.pyplot as plt\n",
    "count = 0\n",
    "f, axarr = plt.subplots(2,3, figsize=(12,6))\n",
    "for i in range(2):\n",
    "    for j in range(3):\n",
    "        output = G.forward(generate_random_seed(100))\n",
    "        img = output.cpu().detach().numpy().reshape(28,28)\n",
    "        axarr[i,j].imshow(img, interpolation='none', cmap='Blues')\n",
    "        pass\n",
    "    pass"
   ]
  },
  {
   "cell_type": "code",
   "execution_count": 43,
   "metadata": {},
   "outputs": [
    {
     "data": {
      "image/png": "[encoded data removed]",
      "text/plain": [
       "<Figure size 640x480 with 1 Axes>"
      ]
     },
     "metadata": {},
     "output_type": "display_data"
    }
   ],
   "source": [
    "seed1 = generate_random_seed(100)\n",
    "out1 = G.forward(seed1)\n",
    "img1 = out1.cpu().detach().numpy().reshape(28,28)\n",
    "plt.imshow(img1, cmap='Blues')\n",
    "plt.show()"
   ]
  },
  {
   "cell_type": "code",
   "execution_count": 44,
   "metadata": {},
   "outputs": [
    {
     "data": {
      "image/png": "[encoded data removed]",
      "text/plain": [
       "<Figure size 640x480 with 1 Axes>"
      ]
     },
     "metadata": {},
     "output_type": "display_data"
    }
   ],
   "source": [
    "seed2 = generate_random_seed(100)\n",
    "out2 = G.forward(seed2)\n",
    "img2 = out2.cpu().detach().numpy().reshape(28,28)\n",
    "plt.imshow(img2, cmap='Blues')\n",
    "plt.show()"
   ]
  },
  {
   "cell_type": "code",
   "execution_count": 45,
   "metadata": {},
   "outputs": [
    {
     "data": {
      "image/png": "[encoded data removed]",
      "text/plain": [
       "<Figure size 2100x600 with 12 Axes>"
      ]
     },
     "metadata": {},
     "output_type": "display_data"
    }
   ],
   "source": [
    "count = 0\n",
    "f, axarr = plt.subplots(3,4, figsize=(21,6))\n",
    "for i in range(3):\n",
    "    for j in range(4):\n",
    "        seed = seed1 + (seed2 - seed1)/11 * count\n",
    "        output = G.forward(seed)\n",
    "        img = output.cpu().detach().numpy().reshape(28,28)\n",
    "        axarr[i,j].imshow(img, interpolation='none', cmap='Blues')\n",
    "        count = count + 1\n",
    "        pass\n",
    "    pass"
   ]
  },
  {
   "cell_type": "code",
   "execution_count": 46,
   "metadata": {},
   "outputs": [
    {
     "data": {
      "image/png": "[encoded data removed]",
      "text/plain": [
       "<Figure size 640x480 with 1 Axes>"
      ]
     },
     "metadata": {},
     "output_type": "display_data"
    }
   ],
   "source": [
    "# sum of seeds\n",
    "seed3 = seed1 + seed2\n",
    "out3 = G.forward(seed3)\n",
    "img3 = out3.cpu().detach().numpy().reshape(28,28)\n",
    "plt.imshow(img3, cmap='Blues')\n",
    "plt.show()"
   ]
  },
  {
   "cell_type": "code",
   "execution_count": 47,
   "metadata": {},
   "outputs": [
    {
     "data": {
      "image/png": "[encoded data removed]",
      "text/plain": [
       "<Figure size 640x480 with 1 Axes>"
      ]
     },
     "metadata": {},
     "output_type": "display_data"
    }
   ],
   "source": [
    "# difference of seeds\n",
    "seed4 = seed1 - seed2\n",
    "out4 = G.forward(seed4)\n",
    "img4 = out4.cpu().detach().numpy().reshape(28,28)\n",
    "plt.imshow(img4, cmap='Blues')\n",
    "plt.show()"
   ]
  },
  {
   "cell_type": "code",
   "execution_count": 48,
   "metadata": {},
   "outputs": [
    {
     "data": {
      "image/png": "[encoded data removed]",
      "text/plain": [
       "<Figure size 640x480 with 1 Axes>"
      ]
     },
     "metadata": {},
     "output_type": "display_data"
    }
   ],
   "source": [
    "seed4 = seed1 * seed2\n",
    "out4 = G.forward(seed4)\n",
    "img4 = out4.cpu().detach().numpy().reshape(28,28)\n",
    "plt.imshow(img4, cmap='Blues')\n",
    "plt.show()"
   ]
  }
 ],
 "metadata": {
  "kernelspec": {
   "display_name": "base",
   "language": "python",
   "name": "python3"
  },
  "language_info": {
   "codemirror_mode": {
    "name": "ipython",
    "version": 3
   },
   "file_extension": ".py",
   "mimetype": "text/x-python",
   "name": "python",
   "nbconvert_exporter": "python",
   "pygments_lexer": "ipython3",
   "version": "3.9.13"
  },
  "orig_nbformat": 4
 },
 "nbformat": 4,
 "nbformat_minor": 2
}
