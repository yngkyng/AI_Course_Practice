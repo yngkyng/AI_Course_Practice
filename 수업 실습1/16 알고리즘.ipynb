{
 "cells": [
  {
   "attachments": {},
   "cell_type": "markdown",
   "metadata": {},
   "source": [
    "* 절대값 계산"
   ]
  },
  {
   "cell_type": "code",
   "execution_count": 2,
   "metadata": {},
   "outputs": [
    {
     "name": "stdout",
     "output_type": "stream",
     "text": [
      "5\n",
      "3\n",
      "\n",
      "5.0\n",
      "3.0\n"
     ]
    }
   ],
   "source": [
    "import math\n",
    "\n",
    "# 절대값 계산 함수 (부호 판단 방식)\n",
    "# 입력: 실수값 z\n",
    "# 출력: a의 절대값\n",
    "def abs_sign(a):\n",
    "    if a>=0:\n",
    "        return a\n",
    "    else:\n",
    "        return -a\n",
    "\n",
    "# 절대값 계산 함수 (제곱-제곱근 방식) \n",
    "def abs_square(a):\n",
    "    b= a*a\n",
    "    return math.sqrt(b)\n",
    "\n",
    "print(abs_sign(5))\n",
    "print(abs_sign(-3))\n",
    "print()\n",
    "print(abs_square(5))\n",
    "print(abs_square(-3))"
   ]
  },
  {
   "attachments": {},
   "cell_type": "markdown",
   "metadata": {},
   "source": [
    "* 합계 구하기"
   ]
  },
  {
   "cell_type": "code",
   "execution_count": 3,
   "metadata": {},
   "outputs": [
    {
     "name": "stdout",
     "output_type": "stream",
     "text": [
      "325\n"
     ]
    }
   ],
   "source": [
    "# 입력: n\n",
    "# 출력: 1~n까지 연속한 숫자의 합계\n",
    "\n",
    "def mysum(n):\n",
    "    s=0\n",
    "    for i in range(1, n+1):\n",
    "        s = s+ i\n",
    "    return s\n",
    "\n",
    "def sum_n(n):\n",
    "    return n*(n+1)//2\n",
    "\n",
    "print(sum_n(25))"
   ]
  },
  {
   "attachments": {},
   "cell_type": "markdown",
   "metadata": {},
   "source": [
    "* 최대값 구하기"
   ]
  },
  {
   "cell_type": "code",
   "execution_count": 4,
   "metadata": {},
   "outputs": [
    {
     "data": {
      "text/plain": [
       "3"
      ]
     },
     "execution_count": 4,
     "metadata": {},
     "output_type": "execute_result"
    }
   ],
   "source": [
    "import numpy as np\n",
    "\n",
    "a=[10,20,30,50]\n",
    "\n",
    "np.max(a)       #최대값\n",
    "np.argmax(a)    #최대값의 인덱스"
   ]
  },
  {
   "cell_type": "code",
   "execution_count": 5,
   "metadata": {},
   "outputs": [
    {
     "name": "stdout",
     "output_type": "stream",
     "text": [
      "92\n"
     ]
    }
   ],
   "source": [
    "def find_max(a):\n",
    "    n = len(a)\n",
    "    max_v = a[0]\n",
    "    for i in range(1,n):\n",
    "        if a[i] > max_v:\n",
    "            max_v = a[i]\n",
    "    return max_v\n",
    "\n",
    "v = [17, 92, 18, 33, 58, 7, 33, 42]\n",
    "print(find_max(v))"
   ]
  },
  {
   "cell_type": "code",
   "execution_count": 8,
   "metadata": {},
   "outputs": [
    {
     "name": "stdout",
     "output_type": "stream",
     "text": [
      "1\n",
      "92\n"
     ]
    }
   ],
   "source": [
    "def find_max_idx(a):\n",
    "    n = len(a)\n",
    "    max_idx = 0\n",
    "    for i in range(1,n):\n",
    "        if a[i] > a[max_idx]:\n",
    "            max_idx = i\n",
    "    return max_idx\n",
    "\n",
    "v = [17, 92, 18, 33, 58, 7, 33, 42]\n",
    "print(find_max_idx(v))\n",
    "print(v[find_max_idx(v)])"
   ]
  },
  {
   "attachments": {},
   "cell_type": "markdown",
   "metadata": {},
   "source": [
    "* 팩토리얼"
   ]
  },
  {
   "cell_type": "code",
   "execution_count": 1,
   "metadata": {},
   "outputs": [
    {
     "name": "stdout",
     "output_type": "stream",
     "text": [
      "3628800\n"
     ]
    }
   ],
   "source": [
    "import math\n",
    "print(math.factorial(10))"
   ]
  },
  {
   "cell_type": "code",
   "execution_count": 2,
   "metadata": {},
   "outputs": [
    {
     "name": "stdout",
     "output_type": "stream",
     "text": [
      "1\n",
      "120\n",
      "3628800\n"
     ]
    }
   ],
   "source": [
    "# 반복문을 사용한 코드\n",
    "def fact(n):\n",
    "    f = 1                       # 곱을 계산할 변수 초깃값은 1\n",
    "    for i in range(1, n + 1):   # 1부터 n까지 반복 (n+1은 제외)    \n",
    "        f = f * i               # 곱셈 연산으로 수정\n",
    "    return f\n",
    "\n",
    "print(fact(1))\n",
    "print(fact(5))\n",
    "print(fact(10))"
   ]
  },
  {
   "cell_type": "code",
   "execution_count": 3,
   "metadata": {},
   "outputs": [
    {
     "name": "stdout",
     "output_type": "stream",
     "text": [
      "1\n",
      "120\n",
      "3628800\n"
     ]
    }
   ],
   "source": [
    "#재귀호출 코드\n",
    "def fact(n):\n",
    "    if n <= 1: # ( 종료 조건 종료 조건이 없으면 메모리 부족 에러 발생)\n",
    "        return 1\n",
    "    return n * fact(n - 1)\n",
    "\n",
    "print(fact(1)) # 1! = 1\n",
    "print(fact(5)) # 5! = 120\n",
    "print(fact(10)) # 10! = 3628800\n"
   ]
  },
  {
   "cell_type": "code",
   "execution_count": 4,
   "metadata": {},
   "outputs": [
    {
     "name": "stdout",
     "output_type": "stream",
     "text": [
      "55\n",
      "5050\n"
     ]
    }
   ],
   "source": [
    "## 1~n의 합 계산을 재귀호출로 처리\n",
    "def sum_n(n):\n",
    "    if n == 0:\n",
    "        return 0\n",
    "    return sum_n(n - 1) + n\n",
    "\n",
    "print(sum_n(10)) # 1 10 ( :10, :55) 부터 까지의 합 입력 출력\n",
    "print(sum_n(100)) # 1 100 ( :100, :5050) "
   ]
  },
  {
   "cell_type": "code",
   "execution_count": null,
   "metadata": {},
   "outputs": [],
   "source": [
    "# n개의 숫자 중에서 최대값 찾기 (재귀호출)\n",
    "def find_max(a, n):     # 리스트 a의 앞부분 n개 중 최대값 구하기\n",
    "    if n ==1:\n",
    "        return a[0]\n",
    "    max_n_1 = find_max(a, n-1)\n",
    "    if max_n_1 > a[n-1]:\n",
    "        return max_n_1\n",
    "    else:\n",
    "        return a[n-1]"
   ]
  },
  {
   "attachments": {},
   "cell_type": "markdown",
   "metadata": {},
   "source": [
    "#### 정렬"
   ]
  },
  {
   "cell_type": "code",
   "execution_count": 5,
   "metadata": {},
   "outputs": [
    {
     "name": "stdout",
     "output_type": "stream",
     "text": [
      "[2, 3, 5, 7, 9, 1]\n",
      "[1, 2, 3, 5, 7, 9]\n"
     ]
    }
   ],
   "source": [
    "a=[2,3,5,7,9,1]\n",
    "b=sorted(a)\n",
    "print(a)    # a는 정렬되지 않음\n",
    "print(b)    # 정렬된 값을 b에 저장"
   ]
  },
  {
   "cell_type": "code",
   "execution_count": 6,
   "metadata": {},
   "outputs": [
    {
     "name": "stdout",
     "output_type": "stream",
     "text": [
      "[1, 2, 3, 5, 7, 9]\n",
      "None\n"
     ]
    }
   ],
   "source": [
    "a=[2,3,5,7,9,1]\n",
    "b=a.sort()\n",
    "print(a)    # a자체가 정렬됨\n",
    "print(b)    # 리턴값은 없음"
   ]
  },
  {
   "cell_type": "code",
   "execution_count": 13,
   "metadata": {},
   "outputs": [
    {
     "name": "stdout",
     "output_type": "stream",
     "text": [
      "[2, 4, 5, 1, 3]\n",
      "[2, 4, 5, 1, 3]\n",
      "[1, 4, 5, 2, 3]\n",
      "[1, 4, 5, 2, 3]\n",
      "[1, 4, 5, 2, 3]\n",
      "[1, 2, 5, 4, 3]\n",
      "[1, 2, 5, 4, 3]\n",
      "[1, 2, 4, 5, 3]\n",
      "[1, 2, 3, 5, 4]\n",
      "[1, 2, 3, 4, 5]\n",
      "[1, 2, 3, 4, 5]\n"
     ]
    }
   ],
   "source": [
    "# 거품 정렬\n",
    "def bubble_sort(a):\n",
    "    for i in range(0,len(a)):\n",
    "        for j in range(i+1,len(a)):\n",
    "            if a[i] > a[j]:\n",
    "                a[i],a[j]=a[j],a[i]\n",
    "            print(a)\n",
    "    return a\n",
    "\n",
    "d = [4, 2, 5, 1, 3]\n",
    "print(bubble_sort(d))"
   ]
  },
  {
   "cell_type": "code",
   "execution_count": 14,
   "metadata": {},
   "outputs": [
    {
     "name": "stdout",
     "output_type": "stream",
     "text": [
      "0 1 [2, 4, 5, 1, 3]\n",
      "0 2 [2, 4, 5, 1, 3]\n",
      "0 3 [2, 4, 5, 1, 3]\n",
      "0 4 [2, 4, 5, 1, 3]\n",
      "0 4 [1, 4, 5, 2, 3]\n",
      "1 2 [1, 4, 5, 2, 3]\n",
      "1 3 [1, 4, 5, 2, 3]\n",
      "1 4 [1, 4, 5, 2, 3]\n",
      "1 4 [1, 2, 5, 4, 3]\n",
      "2 3 [1, 2, 5, 4, 3]\n",
      "2 4 [1, 2, 5, 4, 3]\n",
      "2 4 [1, 2, 3, 4, 5]\n",
      "3 4 [1, 2, 3, 4, 5]\n",
      "3 4 [1, 2, 3, 4, 5]\n",
      "[1, 2, 3, 4, 5]\n"
     ]
    }
   ],
   "source": [
    "# 선택 정렬\n",
    "def sel_sort(a):\n",
    "    n = len(a)\n",
    "    for i in range(0, n - 1): # 0 n-2 부터 까지 반복\n",
    "        min_idx = i\n",
    "        for j in range(i + 1, n):\n",
    "            if a[j] < a[min_idx]:\n",
    "                min_idx = j\n",
    "            print(i,j,a)\n",
    "        a[i], a[min_idx] = a[min_idx], a[i]\n",
    "        print(i,j,a)\n",
    "\n",
    "d = [2, 4, 5, 1, 3]\n",
    "sel_sort(d)\n",
    "print(d)"
   ]
  },
  {
   "cell_type": "code",
   "execution_count": 15,
   "metadata": {},
   "outputs": [
    {
     "name": "stdout",
     "output_type": "stream",
     "text": [
      "[1, 5, 3, 2, 4]\n",
      "[1, 3, 5, 2, 4]\n",
      "[1, 2, 3, 5, 4]\n",
      "[1, 2, 3, 4, 5]\n",
      "[1, 2, 3, 4, 5]\n"
     ]
    }
   ],
   "source": [
    "# 삽입 정렬\n",
    "def ins_sort(a):\n",
    "    n = len(a)\n",
    "    for i in range(1,n):\n",
    "        key = a[i]\n",
    "        j = i-1\n",
    "        while j >= 0 and a[j] > key:\n",
    "            a[j+1] = a[j]\n",
    "            j-=1\n",
    "        a[j+1] = key\n",
    "        print(a)\n",
    "        \n",
    "d = [5, 1, 3, 2, 4]\n",
    "ins_sort(d)\n",
    "print(d)"
   ]
  },
  {
   "cell_type": "code",
   "execution_count": 17,
   "metadata": {},
   "outputs": [
    {
     "data": {
      "text/plain": [
       "[-15, -10, 0, 1, 2, 3, 9, 11, 16]"
      ]
     },
     "execution_count": 17,
     "metadata": {},
     "output_type": "execute_result"
    }
   ],
   "source": [
    "#퀵정렬\n",
    "def quicksort(array):\n",
    "    if len(array) < 2:\n",
    "        return array\n",
    "    else:\n",
    "        pivot = array[0]\n",
    "        less = [i for i in array[1:] if i <= pivot]     # 기준원소보다 작은 값들\n",
    "        greater = [i for i in array[1:] if i > pivot]   # 기준원소보다 큰 값들\n",
    "    return quicksort(less) + [pivot] + quicksort(greater)\n",
    "\n",
    "quicksort([-10, -15, 2, 3, 0, 9, 11, 16, 1])"
   ]
  },
  {
   "cell_type": "code",
   "execution_count": 19,
   "metadata": {},
   "outputs": [
    {
     "name": "stdout",
     "output_type": "stream",
     "text": [
      "(5, 36, 2)\n",
      "-1\n"
     ]
    }
   ],
   "source": [
    "#이진 탐색 (리스트에서 특정 숫자 위치 찾기)\n",
    "def binary_search(a,x):\n",
    "    start = 0\n",
    "    end = len(a)-1\n",
    "    cnt = 0\n",
    "\n",
    "    while start <= end:\n",
    "        mid = (start+end)//2\n",
    "        if x==a[mid]:\n",
    "            return mid, a[mid], cnt\n",
    "        elif x > a[mid]:\n",
    "            start = mid+1\n",
    "        else:\n",
    "            end = mid-1\n",
    "        cnt +=1\n",
    "    return -1\n",
    "\n",
    "d = [1, 4, 9, 16, 25, 36, 49, 64, 81]\n",
    "print(binary_search(d, 36))\n",
    "print(binary_search(d, 50))\n"
   ]
  }
 ],
 "metadata": {
  "kernelspec": {
   "display_name": "base",
   "language": "python",
   "name": "python3"
  },
  "language_info": {
   "codemirror_mode": {
    "name": "ipython",
    "version": 3
   },
   "file_extension": ".py",
   "mimetype": "text/x-python",
   "name": "python",
   "nbconvert_exporter": "python",
   "pygments_lexer": "ipython3",
   "version": "3.9.13"
  },
  "orig_nbformat": 4
 },
 "nbformat": 4,
 "nbformat_minor": 2
}
