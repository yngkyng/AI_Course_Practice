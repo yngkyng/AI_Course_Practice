{
 "cells": [
  {
   "cell_type": "code",
   "execution_count": 37,
   "metadata": {},
   "outputs": [],
   "source": [
    "import pandas as pd\n",
    "import numpy as np\n",
    "import matplotlib.pyplot as plt\n"
   ]
  },
  {
   "cell_type": "code",
   "execution_count": 7,
   "metadata": {},
   "outputs": [
    {
     "data": {
      "text/plain": [
       "Power_divergenceResult(statistic=14.200000000000001, pvalue=0.014387678176921308)"
      ]
     },
     "execution_count": 7,
     "metadata": {},
     "output_type": "execute_result"
    }
   ],
   "source": [
    "#data1 data2 . 과 가 같은지 다른지 알고 싶다\n",
    "# : . 귀무가설 두 데이터는 차이가 없다\n",
    "# : . 대립가설 두 데이터는 차이가 있다\n",
    "from scipy import stats\n",
    "data1 = [4,6,17,16,8,9] # 관측치\n",
    "data2 = [10,10,10,10,10,10] # 기대치\n",
    "chis = stats.chisquare(data1, data2)\n",
    "# p-value 검정 통계량과\n",
    "chis\n",
    "# pvalue 0.05 , 가 보다 작으므로 귀무가설 기각 대립가설 채택\n",
    "# 두 데이터는 차이가 있다"
   ]
  },
  {
   "cell_type": "code",
   "execution_count": 4,
   "metadata": {},
   "outputs": [
    {
     "name": "stdout",
     "output_type": "stream",
     "text": [
      "Exer   Freq  None  Some\n",
      "Smoke                  \n",
      "Heavy     7     1     3\n",
      "Never    87    18    84\n",
      "Occas    12     3     4\n",
      "Regul     9     1     7\n"
     ]
    }
   ],
   "source": [
    "survey = pd.read_csv('c:/vscode/data/survey.csv')\n",
    "#Smoke Exer 와 필드를 기준으로 집계\n",
    "data=pd.crosstab(survey.Smoke, survey.Exer)\n",
    "print(data)"
   ]
  },
  {
   "cell_type": "code",
   "execution_count": 5,
   "metadata": {},
   "outputs": [
    {
     "name": "stdout",
     "output_type": "stream",
     "text": [
      "5.488545890584232\n",
      "0.48284216946545633\n"
     ]
    }
   ],
   "source": [
    "#카이제곱검정 수행\n",
    "result=stats.chi2_contingency(observed=data)\n",
    "print(result[0]) #검정통계량\n",
    "print(result[1]) #p-value\n",
    "#p-value 0.48 0.05 가 로 보다 크므로 흡연습관과 운동횟수에는 상관관계가 없다."
   ]
  },
  {
   "cell_type": "code",
   "execution_count": 8,
   "metadata": {},
   "outputs": [
    {
     "data": {
      "text/plain": [
       "<Axes: >"
      ]
     },
     "execution_count": 8,
     "metadata": {},
     "output_type": "execute_result"
    },
    {
     "data": {
      "image/png": "[encoded data removed]",
      "text/plain": [
       "<Figure size 640x480 with 1 Axes>"
      ]
     },
     "metadata": {},
     "output_type": "display_data"
    }
   ],
   "source": [
    "survey['Pulse'].hist()"
   ]
  },
  {
   "cell_type": "code",
   "execution_count": 17,
   "metadata": {},
   "outputs": [
    {
     "name": "stdout",
     "output_type": "stream",
     "text": [
      " 검정통계량 : 3.435 , p-value : 0.003\n"
     ]
    }
   ],
   "source": [
    "#단일표본t검정\n",
    "np.random.seed(1) # 랜덤 시드 고정\n",
    "heights = [180 + np.random.normal(0, 5) for a in range(20)]\n",
    "result = stats.ttest_1samp(heights, 175)\n",
    "print(\" 검정통계량 : %.3f , p-value : %.3f\" % result) \n"
   ]
  },
  {
   "cell_type": "code",
   "execution_count": 34,
   "metadata": {},
   "outputs": [
    {
     "name": "stdout",
     "output_type": "stream",
     "text": [
      "group1 : 170.15684524292993\n",
      "group2 : 174.40789059965655\n"
     ]
    }
   ],
   "source": [
    "#독립표본t검정\n",
    "# np.random.seed(1)\n",
    "group1 = [170 + np.random.normal(0, 5) for a in range(20)]\n",
    "group2 = [175 + np.random.normal(0, 10) for a in range(20)]\n",
    "print(\"group1 :\",np.mean(group1))\n",
    "print(\"group2 :\",np.mean(group2)) "
   ]
  },
  {
   "cell_type": "code",
   "execution_count": 35,
   "metadata": {},
   "outputs": [
    {
     "name": "stdout",
     "output_type": "stream",
     "text": [
      "검정통계량 : -1.570 , p-value : 0.125.\n"
     ]
    }
   ],
   "source": [
    "result1 = stats.ttest_ind(group1, group2)\n",
    "print(\"검정통계량 : %.3f , p-value : %.3f.\" % result1) "
   ]
  },
  {
   "cell_type": "code",
   "execution_count": 36,
   "metadata": {},
   "outputs": [
    {
     "name": "stdout",
     "output_type": "stream",
     "text": [
      "[68.1217268183162, 56.94121793174962, 57.359141238682724, 54.63515688921915, 64.3270381466234, 48.492306515598585, 68.7240588210824, 56.19396549552449, 61.59519548028549, 58.75314812261295, 67.31053968522487, 49.69929645251173, 58.38791397993246, 58.07972822665792, 65.66884721167719, 54.500543663429845, 59.13785896224782, 55.61070791039314, 60.21106873357797, 62.914076068579114]\n",
      "[65.94098797171107, 57.67544499710449, 57.819839215935254, 54.63788246116392, 64.84275566541605, 47.34427263203588, 67.86790793112998, 54.58033393455883, 60.64923115285458, 58.78881770728494, 65.70631311881824, 48.80793606499072, 57.001583230054315, 56.517144665313666, 64.13055954741337, 53.94173367626836, 57.224973536332286, 55.315321289307555, 61.60772730564428, 63.218635763189475]\n",
      "검정통계량 : 2.915 , p-value : 0.009\n"
     ]
    }
   ],
   "source": [
    "#대응표본t검정\n",
    "np.random.seed(1)\n",
    "before = [60 + np.random.normal(0, 5) for _ in range(20)]\n",
    "print(before)\n",
    "after = [w * np.random.normal(0.99, 0.02) for w in before]\n",
    "print(after)\n",
    "result = stats.ttest_rel(before, after)\n",
    "print(\"검정통계량 : %.3f , p-value : %.3f\" % result) "
   ]
  },
  {
   "cell_type": "code",
   "execution_count": 39,
   "metadata": {},
   "outputs": [
    {
     "name": "stdout",
     "output_type": "stream",
     "text": [
      "a : 79.0\n",
      "b : 65.375\n",
      "c : 64.375\n",
      "d : 69.5\n"
     ]
    }
   ],
   "source": [
    "#아노바 분석\n",
    "a = [66,74,82,75,73,97,87,78]\n",
    "b = [72,51,59,62,74,64,78,63]\n",
    "c = [61,60,57,60,81,55,70,71]\n",
    "d = [63,61,76,84,58,65,69,80]\n",
    "\n",
    "print(\"a :\",np.mean(a))\n",
    "print(\"b :\",np.mean(b))\n",
    "print(\"c :\",np.mean(c))\n",
    "print(\"d :\",np.mean(d)) "
   ]
  },
  {
   "cell_type": "code",
   "execution_count": 40,
   "metadata": {},
   "outputs": [
    {
     "data": {
      "image/png": "[encoded data removed]",
      "text/plain": [
       "<Figure size 640x480 with 1 Axes>"
      ]
     },
     "metadata": {},
     "output_type": "display_data"
    }
   ],
   "source": [
    "# matplotlib plotting\n",
    "plot_data = [a,b,c,d]\n",
    "plt.boxplot(plot_data)\n",
    "plt.show()"
   ]
  },
  {
   "cell_type": "code",
   "execution_count": 41,
   "metadata": {},
   "outputs": [
    {
     "name": "stdout",
     "output_type": "stream",
     "text": [
      "4.2210931159803815 0.013933707427484204\n"
     ]
    }
   ],
   "source": [
    "f, p = stats.f_oneway(a, b, c, d)\n",
    "print(f, p)"
   ]
  },
  {
   "cell_type": "code",
   "execution_count": 45,
   "metadata": {},
   "outputs": [
    {
     "name": "stdout",
     "output_type": "stream",
     "text": [
      "   fertilizer1  fertilizer2  fertilizer3\n",
      "0           72           54           48\n",
      "1           62           56           62\n",
      "2           90           58           92\n",
      "3           42           36           96\n",
      "4           84           72           92\n",
      "5           64           34           80\n",
      "F_onewayResult(statistic=3.7551268418654105, pvalue=0.04762461989261837)\n"
     ]
    }
   ],
   "source": [
    "data = pd.read_csv('c://vscode/data/fertilizers.csv')\n",
    "print(data)\n",
    "result = stats.f_oneway(data['fertilizer1'], data['fertilizer2'], data['fertilizer3'])\n",
    "print(result)"
   ]
  }
 ],
 "metadata": {
  "kernelspec": {
   "display_name": "Python 3",
   "language": "python",
   "name": "python3"
  },
  "language_info": {
   "codemirror_mode": {
    "name": "ipython",
    "version": 3
   },
   "file_extension": ".py",
   "mimetype": "text/x-python",
   "name": "python",
   "nbconvert_exporter": "python",
   "pygments_lexer": "ipython3",
   "version": "3.9.13"
  },
  "orig_nbformat": 4,
  "vscode": {
   "interpreter": {
    "hash": "93cb88c8c23f1da55dedfd812a7caae5ec2bf62baf9b0901f535e3b1ad9c99c3"
   }
  }
 },
 "nbformat": 4,
 "nbformat_minor": 2
}
