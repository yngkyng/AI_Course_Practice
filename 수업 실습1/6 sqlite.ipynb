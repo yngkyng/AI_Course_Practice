{
 "cells": [
  {
   "cell_type": "code",
   "execution_count": 1,
   "metadata": {},
   "outputs": [
    {
     "name": "stdout",
     "output_type": "stream",
     "text": [
      "2.6.0\n",
      "3.39.3\n"
     ]
    }
   ],
   "source": [
    "import sqlite3\n",
    "print(sqlite3.version)\n",
    "print(sqlite3.sqlite_version)"
   ]
  },
  {
   "cell_type": "code",
   "execution_count": 7,
   "metadata": {},
   "outputs": [],
   "source": [
    "# 테이블 생성\n",
    "def create():\n",
    "    conn = sqlite3.connect('books.db')\n",
    "    cursor = conn.cursor()\n",
    "    # books 테이블 생성\n",
    "    cursor.execute(\n",
    "        '''\n",
    "        create table if not exists books(\n",
    "        title text,\n",
    "        publish_date text,\n",
    "        publisher text,\n",
    "        pages integer,\n",
    "        recommend integer\n",
    "        )\n",
    "        '''\n",
    "    )\n",
    "    conn.close()\n",
    "create()"
   ]
  },
  {
   "cell_type": "code",
   "execution_count": 8,
   "metadata": {},
   "outputs": [],
   "source": [
    "# 데이터 입력\n",
    "def insert():\n",
    "    conn = sqlite3.connect('books.db')\n",
    "    cursor = conn.cursor()\n",
    "    # 1\n",
    "    cursor.execute(\n",
    "        \"insert into books values ('Java', '2022-02-28', '길벗', 500, 10)\"\n",
    "    )\n",
    "    # 2 튜플 이용해서 입력\n",
    "    sql = 'insert into books values (?, ?, ?, ?, ?)'\n",
    "    cursor.execute(sql, ('python', '2022-03-04', '한빛', 584, 20))\n",
    "    # 3 튜플 리스트로 입력\n",
    "    items = [\n",
    "        ('빅데이터', '2021-07-02','삼성', 296, 11),\n",
    "        ('안드로이드', '2021-02-10','영진', 526, 20),\n",
    "        ('Spring', '2021-12-12','에이콘', 248, 15) \n",
    "    ]\n",
    "    cursor.executemany(sql,items)    # 여러 데이터 입력\n",
    "    conn.commit()   #레코드 변경사항 확정(추가, 수정, 삭제)\n",
    "    conn.close()\n",
    "insert()"
   ]
  },
  {
   "cell_type": "code",
   "execution_count": 9,
   "metadata": {},
   "outputs": [
    {
     "name": "stdout",
     "output_type": "stream",
     "text": [
      "('Java', '2022-02-28', '길벗', 500, 10)\n",
      "('python', '2022-03-04', '한빛', 584, 20)\n",
      "('빅데이터', '2021-07-02', '삼성', 296, 11)\n",
      "('안드로이드', '2021-02-10', '영진', 526, 20)\n",
      "('Spring', '2021-12-12', '에이콘', 248, 15)\n"
     ]
    }
   ],
   "source": [
    "# 리스트 출력\n",
    "def list():\n",
    "    conn = sqlite3.connect('books.db')\n",
    "    cursor = conn.cursor()                      \n",
    "    cursor.execute('select * from books')\n",
    "    books = cursor.fetchall()       #전체 레코드를 읽어서 리스트로 저장\n",
    "    for book in books:              \n",
    "        print(book)\n",
    "    conn.close()                    \n",
    "list()"
   ]
  },
  {
   "cell_type": "code",
   "execution_count": 10,
   "metadata": {},
   "outputs": [
    {
     "name": "stdout",
     "output_type": "stream",
     "text": [
      "('Java', '2022-02-28', '길벗', 500, 100)\n",
      "('python', '2022-03-04', '한빛', 584, 20)\n",
      "('빅데이터', '2021-07-02', '삼성', 296, 11)\n",
      "('안드로이드', '2021-02-10', '영진', 526, 20)\n",
      "('Spring', '2021-12-12', '에이콘', 248, 15)\n"
     ]
    }
   ],
   "source": [
    "#데이터 수정\n",
    "def update():\n",
    "    conn = sqlite3.connect('books.db')\n",
    "    cursor = conn.cursor()\n",
    "    # 데이터 수정 SQL\n",
    "    sql = 'update books set recommend=? where title=?'\n",
    "    # 수정 SQL 실행\n",
    "    cursor.execute(sql, (100, 'Java'))\n",
    "    conn.commit()                                 \n",
    "    conn.close()          \n",
    "update()\n",
    "list()"
   ]
  },
  {
   "cell_type": "code",
   "execution_count": 11,
   "metadata": {},
   "outputs": [
    {
     "name": "stdout",
     "output_type": "stream",
     "text": [
      "('Java', '2022-02-28', '길벗', 500, 100)\n",
      "('python', '2022-03-04', '한빛', 584, 20)\n",
      "('빅데이터', '2021-07-02', '삼성', 296, 11)\n",
      "('안드로이드', '2021-02-10', '영진', 526, 20)\n",
      "('Spring', '2021-12-12', '에이콘', 248, 15)\n",
      "==================================================\n",
      "('Java', '2022-02-28', '길벗', 500, 100)\n",
      "('python', '2022-03-04', '한빛', 584, 20)\n",
      "('안드로이드', '2021-02-10', '영진', 526, 20)\n",
      "('Spring', '2021-12-12', '에이콘', 248, 15)\n"
     ]
    }
   ],
   "source": [
    "# 데이터 삭제\n",
    "def delete():\n",
    "    conn = sqlite3.connect('books.db')\n",
    "    cursor = conn.cursor()          \n",
    "    # 데이터 삭제 SQL\n",
    "    sql = \"delete from books where publisher='삼성' \"\n",
    "    # 수정 SQL 실행\n",
    "    cursor.execute(sql)\n",
    "    conn.commit()                                 \n",
    "    conn.close()                   \n",
    "list()                         \n",
    "delete()    \n",
    "print('='*50)                \n",
    "list()"
   ]
  }
 ],
 "metadata": {
  "kernelspec": {
   "display_name": "base",
   "language": "python",
   "name": "python3"
  },
  "language_info": {
   "codemirror_mode": {
    "name": "ipython",
    "version": 3
   },
   "file_extension": ".py",
   "mimetype": "text/x-python",
   "name": "python",
   "nbconvert_exporter": "python",
   "pygments_lexer": "ipython3",
   "version": "3.9.13"
  },
  "orig_nbformat": 4
 },
 "nbformat": 4,
 "nbformat_minor": 2
}
