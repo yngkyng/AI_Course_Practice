{
 "cells": [
  {
   "cell_type": "code",
   "execution_count": 3,
   "metadata": {},
   "outputs": [
    {
     "name": "stdout",
     "output_type": "stream",
     "text": [
      "(1, '레몬', 1500, '레몬에 포함된 구연산은 피로회복에 좋습니다. 비타민 C도풍부합니다.', 'lemon.jpg')\n",
      "(2, '오렌지', 2000, '비타민 C가 풍부합니다. 생과일 주스로 마시면 좋습니다.', 'orange.jpg')\n",
      "(3, '키위', 3000, '비타민 C가 매우 풍부합니다. 다이어트나 미용에 좋습니다.', 'kiwi.jpg')\n",
      "(4, '포도', 5000, '폴리페놀을 다량 함유하고 있어 항산화 작용을 합니다.', 'grape.jpg')\n",
      "(5, '딸기', 8000, '비타민 C나 플라보노이드를 다량 함유하고 있습니다.', 'strawberry.jpg')\n",
      "(6, '귤', 7000, '시네피린을 함유하고 있어 감기 예방에 좋다고 합니다.', 'tangerine.jpg')\n"
     ]
    }
   ],
   "source": [
    "import pymssql\n",
    "\n",
    "conn = pymssql.connect(host=r'(local)', database='web', user='sa', password='1234', charset='utf8')\n",
    "cursor = conn.cursor()\n",
    "\n",
    "cursor.execute('SELECT * FROM product')\n",
    "rows = cursor.fetchall()\n",
    "for row in rows:\n",
    "    print(row)\n",
    "\n",
    "conn.close()"
   ]
  },
  {
   "cell_type": "code",
   "execution_count": 4,
   "metadata": {},
   "outputs": [
    {
     "name": "stdout",
     "output_type": "stream",
     "text": [
      "('2007', '1', '6', '6', '1344', '1330', '1455', '1445', 'WN', '566', 'N224', '71', '75', '56', '10', '14', 'BWI', 'CLE', '314', '4', '11', '0', '', '0', '0', '0', '0', '0', '0')\n",
      "('2007', '1', '6', '6', '1646', '1645', '1753', '1755', 'WN', '1873', 'N480', '67', '70', '54', '-2', '1', 'BWI', 'CLE', '314', '5', '8', '0', '', '0', '0', '0', '0', '0', '0')\n",
      "('2007', '1', '6', '6', '1000', '1005', '1112', '1115', 'WN', '2157', 'N255', '72', '70', '60', '-3', '-5', 'BWI', 'CLE', '314', '4', '8', '0', '', '0', '0', '0', '0', '0', '0')\n",
      "('2007', '1', '6', '6', '1734', '1720', '1847', '1840', 'WN', '817', 'N389SW', '73', '80', '61', '7', '14', 'BWI', 'CMH', '336', '4', '8', '0', '', '0', '0', '0', '0', '0', '0')\n",
      "('2007', '1', '6', '6', '1436', '1420', '1551', '1535', 'WN', '1629', 'N331', '75', '75', '64', '16', '16', 'BWI', 'CMH', '336', '3', '8', '0', '', '0', '11', '0', '0', '0', '5')\n"
     ]
    }
   ],
   "source": [
    "conn = pymssql.connect(host=r'(local)', database='web', user='sa', password='1234', charset='utf8')\n",
    "cursor = conn.cursor() \n",
    "                    \n",
    "cursor.execute('select top 5 * from ontime')    \n",
    "rows = cursor.fetchall()         \n",
    "for row in rows:\n",
    "    print(row)\n",
    "    \n",
    "cursor.close()  \n",
    "conn.close()"
   ]
  },
  {
   "cell_type": "code",
   "execution_count": null,
   "metadata": {},
   "outputs": [],
   "source": []
  }
 ],
 "metadata": {
  "kernelspec": {
   "display_name": "base",
   "language": "python",
   "name": "python3"
  },
  "language_info": {
   "codemirror_mode": {
    "name": "ipython",
    "version": 3
   },
   "file_extension": ".py",
   "mimetype": "text/x-python",
   "name": "python",
   "nbconvert_exporter": "python",
   "pygments_lexer": "ipython3",
   "version": "3.9.13"
  },
  "orig_nbformat": 4
 },
 "nbformat": 4,
 "nbformat_minor": 2
}
