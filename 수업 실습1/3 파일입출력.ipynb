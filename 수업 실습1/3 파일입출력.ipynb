{
 "cells": [
  {
   "cell_type": "code",
   "execution_count": 2,
   "metadata": {},
   "outputs": [],
   "source": [
    "f = open(\"file1.txt\", 'w')\n",
    "f.close()"
   ]
  },
  {
   "cell_type": "code",
   "execution_count": 4,
   "metadata": {},
   "outputs": [],
   "source": [
    "f = open(\"c:/vscode/file2.txt\", 'w')\n",
    "for i in range(1,11):\n",
    "    data = f'{i}번째 줄입니다.\\n'\n",
    "    f.write(data)\n",
    "f.close()"
   ]
  },
  {
   "cell_type": "code",
   "execution_count": 5,
   "metadata": {},
   "outputs": [
    {
     "name": "stdout",
     "output_type": "stream",
     "text": [
      "1번째 줄입니다.\n",
      "2번째 줄입니다.\n",
      "3번째 줄입니다.\n",
      "4번째 줄입니다.\n",
      "5번째 줄입니다.\n",
      "6번째 줄입니다.\n",
      "7번째 줄입니다.\n",
      "8번째 줄입니다.\n",
      "9번째 줄입니다.\n",
      "10번째 줄입니다.\n"
     ]
    }
   ],
   "source": [
    "f = open('c:/vscode/file2.txt')\n",
    "while True:\n",
    "    line = f.readline()\n",
    "    if not line: break\n",
    "    print(line,end='')\n",
    "f.close()"
   ]
  },
  {
   "cell_type": "code",
   "execution_count": 10,
   "metadata": {},
   "outputs": [
    {
     "name": "stdout",
     "output_type": "stream",
     "text": [
      "저장 완료\n"
     ]
    }
   ],
   "source": [
    "nums = list(range(10))\n",
    "cnt = len(nums)\n",
    "output_file = 'c:/vscode/result.csv'\n",
    "\n",
    "f = open(output_file, 'a')\n",
    "for idx in range(cnt):\n",
    "    if idx < (cnt-1):\n",
    "        f.write(str(nums[idx]) + ',')\n",
    "    else:\n",
    "        f.write(str(nums[idx]) + '\\n')\n",
    "f.close()\n",
    "print('저장 완료')"
   ]
  },
  {
   "cell_type": "code",
   "execution_count": 14,
   "metadata": {},
   "outputs": [
    {
     "name": "stdout",
     "output_type": "stream",
     "text": [
      "['1번째 줄입니다.\\n', '2번째 줄입니다.\\n', '3번째 줄입니다.\\n', '4번째 줄입니다.\\n', '5번째 줄입니다.\\n', '6번째 줄입니다.\\n', '7번째 줄입니다.\\n', '8번째 줄입니다.\\n', '9번째 줄입니다.\\n', '10번째 줄입니다.\\n']\n",
      "1번째 줄입니다.\n",
      "2번째 줄입니다.\n",
      "3번째 줄입니다.\n",
      "4번째 줄입니다.\n",
      "5번째 줄입니다.\n",
      "6번째 줄입니다.\n",
      "7번째 줄입니다.\n",
      "8번째 줄입니다.\n",
      "9번째 줄입니다.\n",
      "10번째 줄입니다.\n"
     ]
    }
   ],
   "source": [
    "f = open('c:/vscode/file2.txt')\n",
    "# 1\n",
    "# data = f.read()\n",
    "# print(data)\n",
    "\n",
    "# 2\n",
    "# for line in f:\n",
    "#     print(line, end='')\n",
    "\n",
    "# 3\n",
    "lines = f.readlines()\n",
    "# print(lines)\n",
    "for line in lines:\n",
    "    print(line, end='')\n",
    "f.close()"
   ]
  },
  {
   "cell_type": "code",
   "execution_count": 15,
   "metadata": {},
   "outputs": [],
   "source": [
    "with open('c:/vscode/file3.txt', 'w') as f:\n",
    "    f.write('hello python')"
   ]
  },
  {
   "cell_type": "code",
   "execution_count": 50,
   "metadata": {},
   "outputs": [
    {
     "name": "stdout",
     "output_type": "stream",
     "text": [
      "1번째 줄입니다.\n",
      "2번째 줄입니다.\n",
      "3번째 줄입니다.\n",
      "4번째 줄입니다.\n",
      "5번째 줄입니다.\n",
      "6번째 줄입니다.\n",
      "7번째 줄입니다.\n",
      "8번째 줄입니다.\n",
      "9번째 줄입니다.\n",
      "10번째 줄입니다.\n",
      "6번째 줄입니다.\n",
      "\n",
      "138\n"
     ]
    }
   ],
   "source": [
    "f = open('c:/vscode/file2.txt', 'r')\n",
    "for line in f:\n",
    "    print(line, end='')\n",
    "\n",
    "f.seek(115,0)\n",
    "line = f.readline()\n",
    "print(line)\n",
    "print(f.tell())\n",
    "f.close()"
   ]
  },
  {
   "cell_type": "code",
   "execution_count": 28,
   "metadata": {},
   "outputs": [
    {
     "name": "stdout",
     "output_type": "stream",
     "text": [
      "['1번째 줄입니다.\\n', '2번째 줄입니다.\\n', '3번째 줄입니다.\\n', '4번째 줄입니다.\\n', '5번째 줄입니다.\\n', '6번째 줄입니다.\\n', '7번째 줄입니다.\\n', '8번째 줄입니다.\\n', '9번째 줄입니다.\\n', '10번째 줄입니다.\\n']\n"
     ]
    }
   ],
   "source": [
    "f = open(\"c:/vscode/file2.txt\", 'r')\n",
    "f_list = list(f)\n",
    "print(f_list)\n",
    "f.close()"
   ]
  },
  {
   "cell_type": "code",
   "execution_count": 30,
   "metadata": {},
   "outputs": [
    {
     "name": "stdout",
     "output_type": "stream",
     "text": [
      "2\n"
     ]
    }
   ],
   "source": [
    "a = \"i love you, you love me\"\n",
    "count=a.count(\"you\")\n",
    "print(count)"
   ]
  },
  {
   "cell_type": "code",
   "execution_count": 32,
   "metadata": {},
   "outputs": [
    {
     "name": "stdout",
     "output_type": "stream",
     "text": [
      "10000\n",
      "3.1415926535897932384626433832795028841971693993751058209749445923078164062862089986280348253421170679\n",
      "\n",
      "3숫자를 pie 문자열에서 100230 회 찾았습니다.\n"
     ]
    }
   ],
   "source": [
    "filename = 'c:/vscode/data/pi_million_digits.txt'\n",
    "with open(filename) as f:\n",
    "    lines = f.readlines()\n",
    "# for line in lines:\n",
    "#     print(line,end='')\n",
    "print(len(lines))\n",
    "print(lines[0])\n",
    "\n",
    "pi_string = ''\n",
    "for line in lines:\n",
    "    pi_string += line.strip()\n",
    "num = input('숫자 입력: ')\n",
    "if num in pi_string:\n",
    "    total = pi_string.count(num)\n",
    "    print(num+'숫자를 pie 문자열에서',total,'회 찾았습니다.')\n",
    "else:\n",
    "    print(num+'숫자를 찾지 못했습니다.')"
   ]
  },
  {
   "cell_type": "code",
   "execution_count": null,
   "metadata": {},
   "outputs": [],
   "source": []
  }
 ],
 "metadata": {
  "kernelspec": {
   "display_name": "base",
   "language": "python",
   "name": "python3"
  },
  "language_info": {
   "codemirror_mode": {
    "name": "ipython",
    "version": 3
   },
   "file_extension": ".py",
   "mimetype": "text/x-python",
   "name": "python",
   "nbconvert_exporter": "python",
   "pygments_lexer": "ipython3",
   "version": "3.9.13"
  },
  "orig_nbformat": 4
 },
 "nbformat": 4,
 "nbformat_minor": 2
}
